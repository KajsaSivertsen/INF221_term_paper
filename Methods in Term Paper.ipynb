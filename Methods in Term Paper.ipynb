{
 "cells": [
  {
   "cell_type": "code",
   "execution_count": null,
   "metadata": {},
   "outputs": [],
   "source": []
  },
  {
   "cell_type": "code",
   "execution_count": null,
   "metadata": {},
   "outputs": [],
   "source": []
  },
  {
   "cell_type": "code",
   "execution_count": null,
   "metadata": {},
   "outputs": [],
   "source": []
  },
  {
   "cell_type": "markdown",
   "metadata": {},
   "source": [
    "# Method"
   ]
  },
  {
   "cell_type": "markdown",
   "metadata": {},
   "source": [
    "#### Imports"
   ]
  },
  {
   "cell_type": "markdown",
   "metadata": {},
   "source": [
    "#### Hardware Overview of computer that was used for benchmarking:\n",
    "\n",
    "* Operating System: macOS Sierra\n",
    "* Version: 10.13.1 (17B1003)\n",
    "* Memory: 8 GB\n",
    "* Processor Speed: 1,6 GHz\n",
    "* Processor Name: Intel Core i5\n",
    "* Python version: \n",
    "\n"
   ]
  },
  {
   "cell_type": "code",
   "execution_count": 2,
   "metadata": {},
   "outputs": [
    {
     "name": "stdout",
     "output_type": "stream",
     "text": [
      "3.7.4 (default, Aug  9 2019, 18:34:13) [MSC v.1915 64 bit (AMD64)]\n"
     ]
    }
   ],
   "source": [
    "import sys\n",
    "print(sys.version)"
   ]
  },
  {
   "cell_type": "markdown",
   "metadata": {},
   "source": [
    "\n",
    "\n",
    "### Insertion sort\n",
    "* From Lecture 01"
   ]
  },
  {
   "cell_type": "code",
   "execution_count": 3,
   "metadata": {},
   "outputs": [],
   "source": [
    "import numpy as np\n",
    "import timeit\n",
    "import random\n",
    "import copy\n",
    "import pandas as pd\n",
    "import matplotlib.pyplot as plt\n",
    "import numpy as np\n",
    "%matplotlib inline\n",
    "import math"
   ]
  },
  {
   "cell_type": "code",
   "execution_count": 4,
   "metadata": {},
   "outputs": [],
   "source": [
    "def insertion_sort(a):\n",
    "    ''' insertion sort works\n",
    "    '''\n",
    "    for j in range(1, len(a)):\n",
    "        key = a[j]\n",
    "        i = j - 1\n",
    "        while i >= 0 and a[i] > key:\n",
    "            a[i + 1] = a[i]\n",
    "            i = i - 1\n",
    "        a[i + 1] = key"
   ]
  },
  {
   "cell_type": "markdown",
   "metadata": {},
   "source": [
    "### Merge sort"
   ]
  },
  {
   "cell_type": "code",
   "execution_count": 5,
   "metadata": {},
   "outputs": [],
   "source": [
    "def mergesort(arr):\n",
    "    '''Merge sort works as ldksglksdf\n",
    "    '''\n",
    "    if len(arr) > 1:\n",
    "        mid = len(arr) // 2  # Finding the mid of the array\n",
    "        l = arr[:mid]  # Dividing the array elements\n",
    "        r = arr[mid:]  # into 2 halves\n",
    "\n",
    "        mergesort(l)  # Sorting the first half\n",
    "        mergesort(r)  # Sorting the second half\n",
    "\n",
    "        i = j = k = 0\n",
    "\n",
    "        # Copy data to temp arrays l[] and r[]\n",
    "        while i < len(l) and j < len(r):\n",
    "            if l[i] < r[j]:\n",
    "                arr[k] = l[i]\n",
    "                i += 1\n",
    "            else:\n",
    "                arr[k] = r[j]\n",
    "                j += 1\n",
    "            k += 1\n",
    "\n",
    "        # Checking if any element was left\n",
    "        while i < len(l):\n",
    "            arr[k] = l[i]\n",
    "            i += 1\n",
    "            k += 1\n",
    "\n",
    "        while j < len(r):\n",
    "            arr[k] = r[j]\n",
    "            j += 1\n",
    "            k += 1\n"
   ]
  },
  {
   "cell_type": "markdown",
   "metadata": {},
   "source": [
    "### Heap sort"
   ]
  },
  {
   "cell_type": "code",
   "execution_count": 6,
   "metadata": {},
   "outputs": [],
   "source": [
    "def heapify(arr, n, i):\n",
    "    '''Heap sort works as blablabla\n",
    "\n",
    "    '''\n",
    "    largest = i  # Initialize largest as root\n",
    "    l = 2 * i + 1  # left = 2*i + 1\n",
    "    r = 2 * i + 2  # right = 2*i + 2\n",
    "\n",
    "    # See if left child of root exists and is\n",
    "    # greater than root\n",
    "    if l < n and arr[i] < arr[l]:\n",
    "        largest = l\n",
    "\n",
    "        # See if right child of root exists and is\n",
    "    # greater than root\n",
    "    if r < n and arr[largest] < arr[r]:\n",
    "        largest = r\n",
    "\n",
    "        # Change root, if needed\n",
    "    if largest != i:\n",
    "        arr[i], arr[largest] = arr[largest], arr[i]  # swap\n",
    "\n",
    "        # Heapify the root.\n",
    "        heapify(arr, n, largest)\n",
    "\n",
    "    # The main function to sort an array of given size\n",
    "\n",
    "\n",
    "def heapSort(arr):\n",
    "    n = len(arr)\n",
    "\n",
    "    # Build a maxheap.\n",
    "    for i in range(n, -1, -1):\n",
    "        heapify(arr, n, i)\n",
    "\n",
    "        # One by one extract elements\n",
    "    for i in range(n - 1, 0, -1):\n",
    "        arr[i], arr[0] = arr[0], arr[i]  # swap\n",
    "        heapify(arr, i, 0)"
   ]
  },
  {
   "cell_type": "markdown",
   "metadata": {},
   "source": [
    "### Quick Sort? "
   ]
  },
  {
   "cell_type": "code",
   "execution_count": 29,
   "metadata": {},
   "outputs": [],
   "source": [
    "def paritition(A, p, r):\n",
    "    x = A[r]\n",
    "    i = p-1\n",
    "    for j in A[p:r]:\n",
    "        if A[j] <= x:\n",
    "            i = i+1\n",
    "            A[i], A[j] = A[j], A[i]\n",
    "    A[i+1], A[r] = A[r], A[i+1]\n",
    "    return i+1\n",
    "\n",
    "def sort_quick(A, p, r):\n",
    "    if p<r:\n",
    "        q = paritition(A,p,r)\n",
    "        sort_quick(A,p,q-1)\n",
    "        sort_quick(A,q+1,r)\n",
    "\n",
    "def quicksort(A):\n",
    "    p = 1\n",
    "    r = len(A) -1\n",
    "    sort_quick(A, p, r)"
   ]
  },
  {
   "cell_type": "markdown",
   "metadata": {},
   "source": [
    "#### Why Quick Sort is preferred over MergeSort for sorting Arrays\n",
    "\n",
    "Quick Sort in its general form is an in-place sort (i.e. it doesn’t require any extra storage) whereas merge sort requires O(N) extra storage, N denoting the array size which may be quite expensive. Allocating and de-allocating the extra space used for merge sort increases the running time of the algorithm. Comparing average complexity we find that both type of sorts have O(NlogN) average complexity but the constants differ. For arrays, merge sort loses due to the use of extra O(N) storage space.\n",
    "https://www.geeksforgeeks.org/quick-sort/ "
   ]
  },
  {
   "cell_type": "code",
   "execution_count": 13,
   "metadata": {},
   "outputs": [],
   "source": [
    "def create_data(n):\n",
    "    \n",
    "    if n > 4:\n",
    "        array_lengths = [n**i for i in range(1,n)]\n",
    "    else:\n",
    "        m = np.linspace(1,n,10)\n",
    "        array_lengths = [10**i for i in m]\n",
    "    extra_values_for_nicer_plot = [(array_lengths[-1])/3, (array_lengths[-1])/2, (array_lengths[-1])/1.5]\n",
    "    for extra in extra_values_for_nicer_plot:\n",
    "        for i in array_lengths:\n",
    "            if i>extra:\n",
    "                array_lengths.insert(array_lengths.index(i), extra)\n",
    "                break\n",
    "    \n",
    "    rising_arrays = []\n",
    "    decreasing_arrays = []\n",
    "    equal_ints = []\n",
    "    random_arrays = []\n",
    "    for length in array_lengths:\n",
    "        rising_arrays.append(np.array(range(math.floor(length))))\n",
    "        decreasing_arrays.append(np.flip(range(math.floor(length))))\n",
    "        equal_ints.append([1 for _ in range(math.floor(length))])\n",
    "        random_arrays.append(np.random.randint(1,math.floor(length),math.floor(length)))\n",
    "    return rising_arrays, decreasing_arrays, equal_ints, random_arrays, array_lengths\n"
   ]
  },
  {
   "cell_type": "code",
   "execution_count": 14,
   "metadata": {},
   "outputs": [],
   "source": [
    "def benchmarking(sort_function, test_data):\n",
    "    \"\"\"\n",
    "    A function which sorts the test_data based on a specific sort_function and stores the min time used on a number of repetitions.\n",
    "    \n",
    "    parameters:\n",
    "    sort_function = the sorting function used\n",
    "    test_data = the array to be sorted\n",
    "    p, q and r = integers which represents indexes in the array to be sorted in the divide-and-conquer approach, None by default.\n",
    "    \n",
    "    \"\"\"\n",
    "    clock = timeit.Timer(stmt = 'sort_func(copy(data))', globals={'sort_func': sort_function, 'data':test_data, 'copy':copy.copy})\n",
    "\n",
    "    n_ar, t_ar = clock.autorange()\n",
    "    t = [tm / n_ar for tm in clock.repeat(repeat=7, number=n_ar)]\n",
    "    time = min(t)\n",
    "    print(time)\n",
    "    return time"
   ]
  },
  {
   "cell_type": "code",
   "execution_count": 30,
   "metadata": {},
   "outputs": [],
   "source": [
    "def simulate(sort_function, n, array_type, path):\n",
    "    \"\"\"\n",
    "    sort_function: sorting function used for sorting\n",
    "    array_type: 'rising_order', 'decreasing_order', 'equal_integers', random_numbers'.\n",
    "    n: highest power of ten, deciding the size od the biggest array to be sorted\n",
    "    path: the path where dataframes created should be stored\n",
    "    \"\"\"\n",
    "    rising_arrays, decreasing_arrays, equal_ints, random_arrays, array_lengths = create_data(n)\n",
    "    data = []\n",
    "    i = 0\n",
    "    if array_type == 'rising_order':\n",
    "        for array in rising_arrays:\n",
    "            data.append(benchmarking(sort_function, array))\n",
    "            i = i+1\n",
    "    elif array_type == 'decreasing_order':\n",
    "        for array in decreasing_arrays:\n",
    "            data.append(benchmarking(sort_function, array))\n",
    "            i = i+1\n",
    "    elif array_type == 'equal_integers':\n",
    "        for array in equal_ints:\n",
    "                data.append(benchmarking(sort_function, array))\n",
    "                i = i+1\n",
    "    elif array_type == 'random_numbers':\n",
    "        for array in random_arrays:\n",
    "                data.append(benchmarking(sort_function, array))\n",
    "                i = i+1\n",
    "    else:\n",
    "        raise ValueError('set array type as rising_order, decreasing_order, equal_integers or random_numbers')\n",
    "    \n",
    "    times = pd.DataFrame(columns = array_lengths, index = ['time used'])\n",
    "    print(array_lengths)\n",
    "    times.loc['time used'] = data\n",
    "    print(times)\n",
    "    path = '{0}{1}{2}{3}'.format(path, sort_function.__name__, n, array_type)\n",
    "    times.to_pickle(path)"
   ]
  },
  {
   "cell_type": "code",
   "execution_count": 146,
   "metadata": {},
   "outputs": [],
   "source": [
    "def plotting(file_path, n, array_type, sorting_function1 = None, sorting_function2 = None, sorting_function3 = None, sorting_function4 = None,  sorting_function5 = None):\n",
    "    '''\n",
    "    file_path: direction of where the file is stored as string\n",
    "    sorting_function: sorting function preferred to plot\n",
    "    n: the highest power of ten, deciding the size of the biggest array to be sorted\n",
    "    array_type: 'rising_order', 'decaying_order', 'equal_integers', random_numbers'.\n",
    "    '''\n",
    "    \n",
    "    files = []\n",
    "    function_names = []\n",
    "    for function in range(1,6):\n",
    "        function_name = eval('sorting_function{0}'.format(function))\n",
    "        function_names.append(function_name)\n",
    "        if function_name != None:\n",
    "            files.append(pd.read_pickle('{0}{1}{2}{3}'.format(file_path, function_name.__name__, n, array_type)))\n",
    "    plt.figure()\n",
    "    plt.xlabel('Array size n')\n",
    "    plt.ylabel('Runtime [ms]')\n",
    "    i = 0\n",
    "    for file in files:\n",
    "        x = file.columns\n",
    "        #x = [math.log10(m) for m in file.columns]\n",
    "        y = file.iloc[0,:]\n",
    "        line = plt.plot(x,y, label= '{0}'.format(function_names[i].__name__), linestyle = '-', marker = 'o')\n",
    "        i += 1\n",
    "    plt.legend()\n",
    "    plt.savefig('{0}{1}.pdf'.format(file_path, array_type))\n",
    "    plt.show()"
   ]
  },
  {
   "cell_type": "code",
   "execution_count": 153,
   "metadata": {},
   "outputs": [],
   "source": [
    "def plotting_diff_arrays(file_path, n, sorting_function = None):\n",
    "    array_types = ['rising_order', 'decreasing_order', 'random_numbers', 'equal_integers']\n",
    "    files = []\n",
    "    for array_type in array_types:\n",
    "        if sorting_function != None:\n",
    "            files.append(pd.read_pickle('{0}{1}{2}{3}'.format(file_path, sorting_function.__name__, n, array_type)))\n",
    "    plt.figure()\n",
    "    plt.xlabel('Array size n')\n",
    "    plt.ylabel('Runtime [ms]')\n",
    "    i = 0  \n",
    "    array_types_better_names = ['increasing_order', 'decreasing_order', 'random_numbers', 'identical_integers']\n",
    "    for file in files:\n",
    "        #x = [math.log10(m) for m in file.columns]\n",
    "        x = file.columns\n",
    "        y = file.iloc[0,:]\n",
    "        line = plt.plot(x,y, linestyle='-', marker='o', label= '{0}'.format(array_types_better_names[i]))\n",
    "        i += 1\n",
    "    \n",
    "    #if sorting_function == insertion_sort:\n",
    "        #y = []\n",
    "        #plt.plot(x,y, label = 'best case', linestyle = '--')\n",
    "        #y = []\n",
    "        #plt.plot(x,y, label = 'worst/average case', linestyle = ':')\n",
    "    #elif sorting_function == mergesort:\n",
    "        #y = []\n",
    "        #plt.plot(x, y, label = 'expected runtime', linestyle = '--')\n",
    "    #elif sorting_function == quicksort:\n",
    "        #y = []\n",
    "        #plt.plot(x, y, label = 'expected runtime', linestyle = '--')\n",
    "        #y = []\n",
    "        #plt.plot(x,y, label = 'worst case', linestyle = ':')\n",
    "    #elif sorting_function == heapSort:\n",
    "        #y = []\n",
    "        #plt.plot(x, y, label = 'expected runtime', linestyle = '--')\n",
    "    #else: \n",
    "        #pass\n",
    "    plt.legend()\n",
    "    plt.savefig('{0}{1}.pdf'.format(file_path, sorting_function.__name__))\n",
    "    plt.show()"
   ]
  },
  {
   "cell_type": "code",
   "execution_count": 26,
   "metadata": {},
   "outputs": [
    {
     "name": "stdout",
     "output_type": "stream",
     "text": [
      "2.4052740000001904e-06\n",
      "1.512503999999808e-05\n",
      "0.00012989604999995663\n",
      "0.0011145069999997758\n",
      "0.008577665000007072\n",
      "0.07003039999999601\n",
      "0.2372265999999854\n",
      "0.2969708000000537\n",
      "0.3719685999999456\n",
      "0.5757886000001236\n",
      "[8, 64, 512, 4096, 32768, 262144, 699050.6666666666, 1048576.0, 1398101.3333333333, 2097152]\n",
      "          8.000000e+00 6.400000e+01 5.120000e+02 4.096000e+03 3.276800e+04  \\\n",
      "time used  2.40527e-06   1.5125e-05  0.000129896   0.00111451   0.00857767   \n",
      "\n",
      "          2.621440e+05 6.990507e+05 1.048576e+06 1.398101e+06 2.097152e+06  \n",
      "time used    0.0700304     0.237227     0.296971     0.371969     0.575789  \n"
     ]
    }
   ],
   "source": [
    "simulate(insertion_sort, 8, 'equal_integers', 'C:/Users/kajsi/Documents/NMBU/Inf221/Semesteroppgave/')"
   ]
  },
  {
   "cell_type": "code",
   "execution_count": 143,
   "metadata": {},
   "outputs": [
    {
     "name": "stdout",
     "output_type": "stream",
     "text": [
      "2.1340529998997227e-05\n",
      "5.124827999970876e-05\n",
      "0.0001275993000017479\n",
      "0.00030952719997731035\n",
      "0.0007340506000327878\n",
      "0.0017341219999070746\n",
      "0.004053157999878749\n",
      "0.009497069999633822\n",
      "0.01564388500119094\n",
      "0.022276030000648463\n",
      "0.02452175999933388\n",
      "0.033085709999431855\n",
      "0.051572379999561234\n",
      "[10.0, 21.544346900318832, 46.41588833612777, 100.0, 215.44346900318823, 464.15888336127773, 1000.0, 2154.4346900318824, 3333.3333333333335, 4641.588833612777, 5000.0, 6666.666666666667, 10000.0]\n",
      "          10.000000    21.544347    46.415888    100.000000   215.443469    \\\n",
      "time used  2.13405e-05  5.12483e-05  0.000127599  0.000309527  0.000734051   \n",
      "\n",
      "          464.158883   1000.000000  2154.434690  3333.333333  4641.588834   \\\n",
      "time used   0.00173412   0.00405316   0.00949707    0.0156439     0.022276   \n",
      "\n",
      "          5000.000000  6666.666667  10000.000000  \n",
      "time used    0.0245218    0.0330857    0.0515724  \n"
     ]
    }
   ],
   "source": [
    "simulate(mergesort, 4, 'equal_integers', 'C:/Users/kajsi/Documents/NMBU/Inf221/Semesteroppgave/')"
   ]
  },
  {
   "cell_type": "code",
   "execution_count": 141,
   "metadata": {},
   "outputs": [
    {
     "name": "stdout",
     "output_type": "stream",
     "text": [
      "9.534569999959786e-06\n",
      "1.9232820000615903e-05\n",
      "4.1244480002205816e-05\n",
      "8.846205000008921e-05\n",
      "0.00019273119998979382\n",
      "0.0004255078000132926\n",
      "0.0009418192000011914\n",
      "0.0020085899997502564\n",
      "0.003193790999939665\n",
      "0.004360720000113361\n",
      "0.004713685999740846\n",
      "0.006411038000369445\n",
      "0.009360905000357888\n",
      "[10.0, 21.544346900318832, 46.41588833612777, 100.0, 215.44346900318823, 464.15888336127773, 1000.0, 2154.4346900318824, 3333.3333333333335, 4641.588833612777, 5000.0, 6666.666666666667, 10000.0]\n",
      "          10.000000    21.544347    46.415888    100.000000   215.443469    \\\n",
      "time used  9.53457e-06  1.92328e-05  4.12445e-05  8.84621e-05  0.000192731   \n",
      "\n",
      "          464.158883   1000.000000  2154.434690  3333.333333  4641.588834   \\\n",
      "time used  0.000425508  0.000941819   0.00200859   0.00319379   0.00436072   \n",
      "\n",
      "          5000.000000  6666.666667  10000.000000  \n",
      "time used   0.00471369   0.00641104   0.00936091  \n"
     ]
    }
   ],
   "source": [
    "simulate(heapSort, 4, 'equal_integers', 'C:/Users/kajsi/Documents/NMBU/Inf221/Semesteroppgave/')"
   ]
  },
  {
   "cell_type": "code",
   "execution_count": 116,
   "metadata": {},
   "outputs": [
    {
     "name": "stdout",
     "output_type": "stream",
     "text": [
      "4.3885039997985586e-05\n",
      "7.069765000778716e-05\n",
      "0.00023852840001927688\n",
      "0.0005681095999898389\n",
      "0.0012080289999721573\n",
      "0.0032195999997202307\n",
      "0.007934939999540803\n",
      "0.017222700000274926\n",
      "0.030925359998946078\n",
      "0.04288445999845862\n",
      "0.04701820000191219\n",
      "0.06584947999799624\n",
      "0.10720584999944549\n",
      "[10.0, 21.544346900318832, 46.41588833612777, 100.0, 215.44346900318823, 464.15888336127773, 1000.0, 2154.4346900318824, 3333.3333333333335, 4641.588833612777, 5000.0, 6666.666666666667, 10000.0]\n",
      "          10.000000    21.544347    46.415888    100.000000   215.443469    \\\n",
      "time used   4.3885e-05  7.06977e-05  0.000238528   0.00056811   0.00120803   \n",
      "\n",
      "          464.158883   1000.000000  2154.434690  3333.333333  4641.588834   \\\n",
      "time used    0.0032196   0.00793494    0.0172227    0.0309254    0.0428845   \n",
      "\n",
      "          5000.000000  6666.666667  10000.000000  \n",
      "time used    0.0470182    0.0658495     0.107206  \n"
     ]
    }
   ],
   "source": [
    "simulate(quicksort, 4, 'random_numbers', 'C:/Users/kajsi/Documents/NMBU/Inf221/Semesteroppgave/')"
   ]
  },
  {
   "cell_type": "code",
   "execution_count": 139,
   "metadata": {},
   "outputs": [
    {
     "name": "stdout",
     "output_type": "stream",
     "text": [
      "3.474209000123665e-06\n",
      "4.502953999908641e-06\n",
      "7.054836000315845e-06\n",
      "1.2592640001093968e-05\n",
      "2.4541689999750815e-05\n",
      "4.975280000362545e-05\n",
      "0.00010686889999487903\n",
      "0.00022000060000573285\n",
      "0.0003414169000170659\n",
      "0.00047069159999955446\n",
      "0.0005056697999825701\n",
      "0.0006885092000011355\n",
      "0.0010254089999943972\n",
      "[10.0, 21.544346900318832, 46.41588833612777, 100.0, 215.44346900318823, 464.15888336127773, 1000.0, 2154.4346900318824, 3333.3333333333335, 4641.588833612777, 5000.0, 6666.666666666667, 10000.0]\n",
      "          10.000000    21.544347    46.415888    100.000000   215.443469    \\\n",
      "time used  3.47421e-06  4.50295e-06  7.05484e-06  1.25926e-05  2.45417e-05   \n",
      "\n",
      "          464.158883   1000.000000  2154.434690  3333.333333  4641.588834   \\\n",
      "time used  4.97528e-05  0.000106869  0.000220001  0.000341417  0.000470692   \n",
      "\n",
      "          5000.000000  6666.666667  10000.000000  \n",
      "time used   0.00050567  0.000688509   0.00102541  \n"
     ]
    }
   ],
   "source": [
    "simulate(sorted, 4, 'rising_order', 'C:/Users/kajsi/Documents/NMBU/Inf221/Semesteroppgave/')"
   ]
  },
  {
   "cell_type": "code",
   "execution_count": 127,
   "metadata": {},
   "outputs": [
    {
     "name": "stdout",
     "output_type": "stream",
     "text": [
      "21.1 µs ± 459 ns per loop (mean ± std. dev. of 7 runs, 10000 loops each)\n"
     ]
    }
   ],
   "source": [
    "%timeit sort_quick(A)"
   ]
  },
  {
   "cell_type": "code",
   "execution_count": 128,
   "metadata": {},
   "outputs": [
    {
     "name": "stdout",
     "output_type": "stream",
     "text": [
      "3.75 µs ± 388 ns per loop (mean ± std. dev. of 7 runs, 100000 loops each)\n"
     ]
    }
   ],
   "source": [
    "%timeit insertion_sort(A)"
   ]
  },
  {
   "cell_type": "code",
   "execution_count": null,
   "metadata": {},
   "outputs": [],
   "source": [
    "%timeit insertion_sort(A)"
   ]
  },
  {
   "cell_type": "code",
   "execution_count": 157,
   "metadata": {},
   "outputs": [
    {
     "data": {
      "image/png": "[encoded data removed]",
      "text/plain": [
       "<Figure size 432x288 with 1 Axes>"
      ]
     },
     "metadata": {
      "needs_background": "light"
     },
     "output_type": "display_data"
    }
   ],
   "source": [
    "plotting_diff_arrays('C:/Users/kajsi/Documents/NMBU/Inf221/Semesteroppgave/', 4, insertion_sort)"
   ]
  },
  {
   "cell_type": "code",
   "execution_count": 148,
   "metadata": {
    "scrolled": true
   },
   "outputs": [
    {
     "data": {
      "image/png": "[encoded data removed]",
      "text/plain": [
       "<Figure size 432x288 with 1 Axes>"
      ]
     },
     "metadata": {
      "needs_background": "light"
     },
     "output_type": "display_data"
    }
   ],
   "source": [
    "plotting('C:/Users/kajsi/Documents/NMBU/Inf221/Semesteroppgave/', 4, 'equal_integers', sorting_function1 = heapSort, sorting_function2 = mergesort, sorting_function3 = sorted, sorting_function4 = insertion_sort, sorting_function5 = None)\n"
   ]
  },
  {
   "cell_type": "code",
   "execution_count": null,
   "metadata": {},
   "outputs": [],
   "source": []
  }
 ],
 "metadata": {
  "kernelspec": {
   "display_name": "Python 3",
   "language": "python",
   "name": "python3"
  },
  "language_info": {
   "codemirror_mode": {
    "name": "ipython",
    "version": 3
   },
   "file_extension": ".py",
   "mimetype": "text/x-python",
   "name": "python",
   "nbconvert_exporter": "python",
   "pygments_lexer": "ipython3",
   "version": "3.7.4"
  }
 },
 "nbformat": 4,
 "nbformat_minor": 2
}
