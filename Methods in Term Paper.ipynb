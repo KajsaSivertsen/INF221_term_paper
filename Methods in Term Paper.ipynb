{
 "cells": [
  {
   "cell_type": "code",
   "execution_count": null,
   "metadata": {},
   "outputs": [],
   "source": []
  },
  {
   "cell_type": "code",
   "execution_count": null,
   "metadata": {},
   "outputs": [],
   "source": []
  },
  {
   "cell_type": "code",
   "execution_count": null,
   "metadata": {},
   "outputs": [],
   "source": []
  },
  {
   "cell_type": "markdown",
   "metadata": {},
   "source": [
    "# Method"
   ]
  },
  {
   "cell_type": "markdown",
   "metadata": {},
   "source": [
    "#### Imports"
   ]
  },
  {
   "cell_type": "markdown",
   "metadata": {},
   "source": [
    "#### Hardware Overview of computer that was used for benchmarking:\n",
    "\n",
    "* Operating System: macOS Sierra\n",
    "* Version: 10.13.1 (17B1003)\n",
    "* Memory: 8 GB\n",
    "* Processor Speed: 1,6 GHz\n",
    "* Processor Name: Intel Core i5\n",
    "* Python version: \n",
    "\n"
   ]
  },
  {
   "cell_type": "code",
   "execution_count": 5,
   "metadata": {},
   "outputs": [
    {
     "name": "stdout",
     "output_type": "stream",
     "text": [
      "3.7.4 (default, Aug  9 2019, 18:34:13) [MSC v.1915 64 bit (AMD64)]\n"
     ]
    }
   ],
   "source": [
    "import sys\n",
    "print(sys.version)"
   ]
  },
  {
   "cell_type": "markdown",
   "metadata": {},
   "source": [
    "\n",
    "\n",
    "### Insertion sort\n",
    "* From Lecture 01"
   ]
  },
  {
   "cell_type": "code",
   "execution_count": 6,
   "metadata": {},
   "outputs": [],
   "source": [
    "import numpy as np\n",
    "import timeit\n",
    "import random\n",
    "import copy\n",
    "import pandas as pd\n",
    "import matplotlib.pyplot as plt\n",
    "import numpy as np\n",
    "%matplotlib inline\n",
    "import math"
   ]
  },
  {
   "cell_type": "code",
   "execution_count": 7,
   "metadata": {},
   "outputs": [],
   "source": [
    "def insertion_sort(a):\n",
    "    ''' insertion sort works\n",
    "    '''\n",
    "    for j in range(1, len(a)):\n",
    "        key = a[j]\n",
    "        i = j - 1\n",
    "        while i >= 0 and a[i] > key:\n",
    "            a[i + 1] = a[i]\n",
    "            i = i - 1\n",
    "        a[i + 1] = key"
   ]
  },
  {
   "cell_type": "markdown",
   "metadata": {},
   "source": [
    "### Merge sort"
   ]
  },
  {
   "cell_type": "code",
   "execution_count": 19,
   "metadata": {},
   "outputs": [],
   "source": [
    "def mergesort(arr):\n",
    "    '''Merge sort works as ldksglksdf\n",
    "    '''\n",
    "    if len(arr) > 1:\n",
    "        mid = len(arr) // 2  # Finding the mid of the array\n",
    "        l = arr[:mid]  # Dividing the array elements\n",
    "        r = arr[mid:]  # into 2 halves\n",
    "\n",
    "        mergesort(l)  # Sorting the first half\n",
    "        mergesort(r)  # Sorting the second half\n",
    "\n",
    "        i = j = k = 0\n",
    "\n",
    "        # Copy data to temp arrays l[] and r[]\n",
    "        while i < len(l) and j < len(r):\n",
    "            if l[i] < r[j]:\n",
    "                arr[k] = l[i]\n",
    "                i += 1\n",
    "            else:\n",
    "                arr[k] = r[j]\n",
    "                j += 1\n",
    "            k += 1\n",
    "\n",
    "        # Checking if any element was left\n",
    "        while i < len(l):\n",
    "            arr[k] = l[i]\n",
    "            i += 1\n",
    "            k += 1\n",
    "\n",
    "        while j < len(r):\n",
    "            arr[k] = r[j]\n",
    "            j += 1\n",
    "            k += 1\n"
   ]
  },
  {
   "cell_type": "markdown",
   "metadata": {},
   "source": [
    "### Heap sort"
   ]
  },
  {
   "cell_type": "code",
   "execution_count": 20,
   "metadata": {},
   "outputs": [],
   "source": [
    "def heapify(arr, n, i):\n",
    "    '''Heap sort works as blablabla\n",
    "\n",
    "    '''\n",
    "    largest = i  # Initialize largest as root\n",
    "    l = 2 * i + 1  # left = 2*i + 1\n",
    "    r = 2 * i + 2  # right = 2*i + 2\n",
    "\n",
    "    # See if left child of root exists and is\n",
    "    # greater than root\n",
    "    if l < n and arr[i] < arr[l]:\n",
    "        largest = l\n",
    "\n",
    "        # See if right child of root exists and is\n",
    "    # greater than root\n",
    "    if r < n and arr[largest] < arr[r]:\n",
    "        largest = r\n",
    "\n",
    "        # Change root, if needed\n",
    "    if largest != i:\n",
    "        arr[i], arr[largest] = arr[largest], arr[i]  # swap\n",
    "\n",
    "        # Heapify the root.\n",
    "        heapify(arr, n, largest)\n",
    "\n",
    "    # The main function to sort an array of given size\n",
    "\n",
    "\n",
    "def heapSort(arr):\n",
    "    n = len(arr)\n",
    "\n",
    "    # Build a maxheap.\n",
    "    for i in range(n, -1, -1):\n",
    "        heapify(arr, n, i)\n",
    "\n",
    "        # One by one extract elements\n",
    "    for i in range(n - 1, 0, -1):\n",
    "        arr[i], arr[0] = arr[0], arr[i]  # swap\n",
    "        heapify(arr, i, 0)"
   ]
  },
  {
   "cell_type": "markdown",
   "metadata": {},
   "source": [
    "### Quick Sort? "
   ]
  },
  {
   "cell_type": "code",
   "execution_count": 21,
   "metadata": {},
   "outputs": [],
   "source": [
    "def paritition(A, p, r):\n",
    "    x = A[r]\n",
    "    i = p-1\n",
    "    for j in A[p:r]:\n",
    "        if A[j] <= x:\n",
    "            i = i+1\n",
    "            A[i], A[j] = A[j], A[i]\n",
    "    A[i+1], A[r] = A[r], A[i+1]\n",
    "    return i+1\n",
    "\n",
    "def quicksort(A, p, r):\n",
    "    if p<r:\n",
    "        q = paritition(A,p,r)\n",
    "        quicksort(A,p,q-1)\n",
    "        quicksort(A,q+1,r)\n",
    "\n",
    "def sort_quick(A):\n",
    "    p = 1\n",
    "    r = len(A) -1\n",
    "    quicksort(A, p, r)"
   ]
  },
  {
   "cell_type": "markdown",
   "metadata": {},
   "source": [
    "#### Why Quick Sort is preferred over MergeSort for sorting Arrays\n",
    "\n",
    "Quick Sort in its general form is an in-place sort (i.e. it doesn’t require any extra storage) whereas merge sort requires O(N) extra storage, N denoting the array size which may be quite expensive. Allocating and de-allocating the extra space used for merge sort increases the running time of the algorithm. Comparing average complexity we find that both type of sorts have O(NlogN) average complexity but the constants differ. For arrays, merge sort loses due to the use of extra O(N) storage space.\n",
    "https://www.geeksforgeeks.org/quick-sort/ "
   ]
  },
  {
   "cell_type": "code",
   "execution_count": 8,
   "metadata": {},
   "outputs": [],
   "source": [
    "def create_data(n):\n",
    "    array_lengths = [10**i for i in range(1,n)]\n",
    "    rising_arrays = []\n",
    "    decaying_arrays = []\n",
    "    equal_ints = []\n",
    "    random_arrays = []\n",
    "    for length in array_lengths:\n",
    "        rising_arrays.append(np.array(range(length)))\n",
    "        decaying_arrays.append(np.flip(range(length)))\n",
    "        equal_ints.append([1 for _ in range(length)])\n",
    "        random_arrays = (np.random.randint(1,length,length))\n",
    "    return rising_arrays, decaying_arrays, equal_ints, random_arrays, array_lengths"
   ]
  },
  {
   "cell_type": "code",
   "execution_count": 9,
   "metadata": {},
   "outputs": [],
   "source": [
    "def benchmarking(sort_function, test_data):\n",
    "    \"\"\"\n",
    "    A function which sorts the test_data based on a specific sort_function and stores the min time used on a number of repetitions.\n",
    "    \n",
    "    parameters:\n",
    "    sort_function = the sorting function used\n",
    "    test_data = the array to be sorted\n",
    "    p, q and r = integers which represents indexes in the array to be sorted in the divide-and-conquer approach, None by default.\n",
    "    \n",
    "    \"\"\"\n",
    "    clock = timeit.Timer(stmt = 'sort_func(copy(data))', globals={'sort_func': sort_function, 'data':test_data, 'copy':copy.copy})\n",
    "\n",
    "    n_ar, t_ar = clock.autorange()\n",
    "    t = clock.repeat(repeat=7, number=n_ar)\n",
    "    time = min(t)\n",
    "    \n",
    "    return time"
   ]
  },
  {
   "cell_type": "code",
   "execution_count": 17,
   "metadata": {},
   "outputs": [],
   "source": [
    "def simulate(sort_function, n, array_type, path):\n",
    "    \"\"\"\n",
    "    sort_function: sorting function used for sorting\n",
    "    array_type: 'rising_order', 'decaying_order', 'equal_integers', random_numbers'.\n",
    "    n: highest power of ten, deciding the size od the biggest array to be sorted\n",
    "    path: the path where dataframes created should be stored\n",
    "    \"\"\"\n",
    "    rising_arrays, decaying_arrays, equal_ints, random_arrays, array_lengths = create_data(n)\n",
    "    data = []\n",
    "    i = 0\n",
    "    if array_type == 'rising_order':\n",
    "        for array in rising_arrays:\n",
    "            data.append(benchmarking(sort_function, array))\n",
    "            i = i+1\n",
    "    elif array_type == 'decaying_order':\n",
    "        for array in decaying_arrays:\n",
    "            data.append(benchmarking(sort_function, array))\n",
    "            i = i+1\n",
    "    elif array_type == 'equal_integers':\n",
    "        for array in equal_ints:\n",
    "                data.append(benchmarking(sort_function, array))\n",
    "                i = i+1\n",
    "    else:\n",
    "        for array in random_arrays:\n",
    "                data.append(benchmarking(sort_function, array))\n",
    "                i = i+1\n",
    "    \n",
    "    times = pd.DataFrame(columns = array_lengths, index = ['time used'])\n",
    "    times.loc['time used'] = data\n",
    "    print(times)\n",
    "    path = '{0}{1}{2}{3}'.format(path, sort_function.__name__, n, array_type)\n",
    "    times.to_pickle(path)"
   ]
  },
  {
   "cell_type": "code",
   "execution_count": 16,
   "metadata": {},
   "outputs": [
    {
     "name": "stdout",
     "output_type": "stream",
     "text": [
      "[0.17490720000932924, 0.3069388000003528, 0.36627950001275167]\n",
      "               10        100      1000\n",
      "time used  0.174907  0.306939  0.36628\n"
     ]
    }
   ],
   "source": [
    "simulate(insertion_sort, 4, 'rising_order', 'C:/Users/kajsi/Documents/NMBU/Inf221/Semesteroppgave/')"
   ]
  },
  {
   "cell_type": "code",
   "execution_count": 18,
   "metadata": {},
   "outputs": [
    {
     "ename": "NameError",
     "evalue": "name 'mergesort' is not defined",
     "output_type": "error",
     "traceback": [
      "\u001b[1;31m---------------------------------------------------------------------------\u001b[0m",
      "\u001b[1;31mNameError\u001b[0m                                 Traceback (most recent call last)",
      "\u001b[1;32m<ipython-input-18-4f282377b637>\u001b[0m in \u001b[0;36m<module>\u001b[1;34m\u001b[0m\n\u001b[1;32m----> 1\u001b[1;33m \u001b[0msimulate\u001b[0m\u001b[1;33m(\u001b[0m\u001b[0mmergesort\u001b[0m\u001b[1;33m,\u001b[0m \u001b[1;36m4\u001b[0m\u001b[1;33m,\u001b[0m \u001b[1;34m'rising order'\u001b[0m\u001b[1;33m)\u001b[0m\u001b[1;33m\u001b[0m\u001b[1;33m\u001b[0m\u001b[0m\n\u001b[0m",
      "\u001b[1;31mNameError\u001b[0m: name 'mergesort' is not defined"
     ]
    }
   ],
   "source": [
    "simulate(mergesort, 4, 'rising order')"
   ]
  },
  {
   "cell_type": "code",
   "execution_count": 121,
   "metadata": {},
   "outputs": [
    {
     "name": "stdout",
     "output_type": "stream",
     "text": [
      "[0.3102408109989483, 0.25534922100268886, 0.19171021199872484]\n"
     ]
    }
   ],
   "source": [
    "simulate(heapSort, 4, 'rising order')"
   ]
  },
  {
   "cell_type": "code",
   "execution_count": 122,
   "metadata": {},
   "outputs": [
    {
     "name": "stdout",
     "output_type": "stream",
     "text": [
      "[0.14347947900023428, 0.3164944939999259, 0.6192863449978177]\n"
     ]
    }
   ],
   "source": [
    "simulate(sort_quick, 4, 'rising order')"
   ]
  },
  {
   "cell_type": "code",
   "execution_count": 123,
   "metadata": {},
   "outputs": [
    {
     "name": "stdout",
     "output_type": "stream",
     "text": [
      "[0.21451274100036244, 0.3538634100004856, 0.294224930999917]\n"
     ]
    }
   ],
   "source": [
    "simulate(sorted, 4, 'rising order')"
   ]
  },
  {
   "cell_type": "code",
   "execution_count": 127,
   "metadata": {},
   "outputs": [
    {
     "name": "stdout",
     "output_type": "stream",
     "text": [
      "21.1 µs ± 459 ns per loop (mean ± std. dev. of 7 runs, 10000 loops each)\n"
     ]
    }
   ],
   "source": [
    "%timeit sort_quick(A)"
   ]
  },
  {
   "cell_type": "code",
   "execution_count": 128,
   "metadata": {},
   "outputs": [
    {
     "name": "stdout",
     "output_type": "stream",
     "text": [
      "3.75 µs ± 388 ns per loop (mean ± std. dev. of 7 runs, 100000 loops each)\n"
     ]
    }
   ],
   "source": [
    "%timeit insertion_sort(A)"
   ]
  },
  {
   "cell_type": "code",
   "execution_count": null,
   "metadata": {},
   "outputs": [],
   "source": [
    "%timeit insertion_sort(A)"
   ]
  }
 ],
 "metadata": {
  "kernelspec": {
   "display_name": "Python 3",
   "language": "python",
   "name": "python3"
  },
  "language_info": {
   "codemirror_mode": {
    "name": "ipython",
    "version": 3
   },
   "file_extension": ".py",
   "mimetype": "text/x-python",
   "name": "python",
   "nbconvert_exporter": "python",
   "pygments_lexer": "ipython3",
   "version": "3.7.4"
  }
 },
 "nbformat": 4,
 "nbformat_minor": 2
}
