{
 "cells": [
  {
   "cell_type": "code",
   "execution_count": null,
   "metadata": {},
   "outputs": [],
   "source": []
  },
  {
   "cell_type": "code",
   "execution_count": null,
   "metadata": {},
   "outputs": [],
   "source": []
  },
  {
   "cell_type": "code",
   "execution_count": null,
   "metadata": {},
   "outputs": [],
   "source": []
  },
  {
   "cell_type": "markdown",
   "metadata": {},
   "source": [
    "# Method"
   ]
  },
  {
   "cell_type": "markdown",
   "metadata": {},
   "source": [
    "#### Imports"
   ]
  },
  {
   "cell_type": "markdown",
   "metadata": {},
   "source": [
    "#### Hardware Overview of computer that was used for benchmarking:\n",
    "\n",
    "* Operating System: macOS Sierra\n",
    "* Version: 10.13.1 (17B1003)\n",
    "* Memory: 8 GB\n",
    "* Processor Speed: 1,6 GHz\n",
    "* Processor Name: Intel Core i5\n",
    "* Python version: \n",
    "\n"
   ]
  },
  {
   "cell_type": "code",
   "execution_count": 37,
   "metadata": {},
   "outputs": [
    {
     "name": "stdout",
     "output_type": "stream",
     "text": [
      "3.7.4 (default, Aug  9 2019, 18:34:13) [MSC v.1915 64 bit (AMD64)]\n"
     ]
    }
   ],
   "source": [
    "import sys\n",
    "print(sys.version)"
   ]
  },
  {
   "cell_type": "markdown",
   "metadata": {},
   "source": [
    "\n",
    "\n",
    "### Insertion sort\n",
    "* From Lecture 01"
   ]
  },
  {
   "cell_type": "code",
   "execution_count": 38,
   "metadata": {},
   "outputs": [],
   "source": [
    "import numpy as np\n",
    "import timeit\n",
    "import random\n",
    "import copy\n",
    "import pandas as pd\n",
    "import matplotlib.pyplot as plt\n",
    "import numpy as np\n",
    "%matplotlib inline\n",
    "import math"
   ]
  },
  {
   "cell_type": "code",
   "execution_count": 39,
   "metadata": {},
   "outputs": [],
   "source": [
    "def insertion_sort(a):\n",
    "    ''' insertion sort works\n",
    "    '''\n",
    "    for j in range(1, len(a)):\n",
    "        key = a[j]\n",
    "        i = j - 1\n",
    "        while i >= 0 and a[i] > key:\n",
    "            a[i + 1] = a[i]\n",
    "            i = i - 1\n",
    "        a[i + 1] = key"
   ]
  },
  {
   "cell_type": "markdown",
   "metadata": {},
   "source": [
    "### Merge sort"
   ]
  },
  {
   "cell_type": "code",
   "execution_count": 40,
   "metadata": {},
   "outputs": [],
   "source": [
    "def mergesort(arr):\n",
    "    '''Merge sort works as ldksglksdf\n",
    "    '''\n",
    "    if len(arr) > 1:\n",
    "        mid = len(arr) // 2  # Finding the mid of the array\n",
    "        l = arr[:mid]  # Dividing the array elements\n",
    "        r = arr[mid:]  # into 2 halves\n",
    "\n",
    "        mergesort(l)  # Sorting the first half\n",
    "        mergesort(r)  # Sorting the second half\n",
    "\n",
    "        i = j = k = 0\n",
    "\n",
    "        # Copy data to temp arrays l[] and r[]\n",
    "        while i < len(l) and j < len(r):\n",
    "            if l[i] < r[j]:\n",
    "                arr[k] = l[i]\n",
    "                i += 1\n",
    "            else:\n",
    "                arr[k] = r[j]\n",
    "                j += 1\n",
    "            k += 1\n",
    "\n",
    "        # Checking if any element was left\n",
    "        while i < len(l):\n",
    "            arr[k] = l[i]\n",
    "            i += 1\n",
    "            k += 1\n",
    "\n",
    "        while j < len(r):\n",
    "            arr[k] = r[j]\n",
    "            j += 1\n",
    "            k += 1\n"
   ]
  },
  {
   "cell_type": "markdown",
   "metadata": {},
   "source": [
    "### Heap sort"
   ]
  },
  {
   "cell_type": "code",
   "execution_count": 41,
   "metadata": {},
   "outputs": [],
   "source": [
    "def heapify(arr, n, i):\n",
    "    '''Heap sort works as blablabla\n",
    "\n",
    "    '''\n",
    "    largest = i  # Initialize largest as root\n",
    "    l = 2 * i + 1  # left = 2*i + 1\n",
    "    r = 2 * i + 2  # right = 2*i + 2\n",
    "\n",
    "    # See if left child of root exists and is\n",
    "    # greater than root\n",
    "    if l < n and arr[i] < arr[l]:\n",
    "        largest = l\n",
    "\n",
    "        # See if right child of root exists and is\n",
    "    # greater than root\n",
    "    if r < n and arr[largest] < arr[r]:\n",
    "        largest = r\n",
    "\n",
    "        # Change root, if needed\n",
    "    if largest != i:\n",
    "        arr[i], arr[largest] = arr[largest], arr[i]  # swap\n",
    "\n",
    "        # Heapify the root.\n",
    "        heapify(arr, n, largest)\n",
    "\n",
    "    # The main function to sort an array of given size\n",
    "\n",
    "\n",
    "def heapSort(arr):\n",
    "    n = len(arr)\n",
    "\n",
    "    # Build a maxheap.\n",
    "    for i in range(n, -1, -1):\n",
    "        heapify(arr, n, i)\n",
    "\n",
    "        # One by one extract elements\n",
    "    for i in range(n - 1, 0, -1):\n",
    "        arr[i], arr[0] = arr[0], arr[i]  # swap\n",
    "        heapify(arr, i, 0)"
   ]
  },
  {
   "cell_type": "markdown",
   "metadata": {},
   "source": [
    "### Quick Sort? "
   ]
  },
  {
   "cell_type": "code",
   "execution_count": 42,
   "metadata": {},
   "outputs": [],
   "source": [
    "def paritition(A, p, r):\n",
    "    x = A[r]\n",
    "    i = p-1\n",
    "    for j in A[p:r]:\n",
    "        if A[j] <= x:\n",
    "            i = i+1\n",
    "            A[i], A[j] = A[j], A[i]\n",
    "    A[i+1], A[r] = A[r], A[i+1]\n",
    "    return i+1\n",
    "\n",
    "def quicksort(A, p, r):\n",
    "    if p<r:\n",
    "        q = paritition(A,p,r)\n",
    "        quicksort(A,p,q-1)\n",
    "        quicksort(A,q+1,r)\n",
    "\n",
    "def sort_quick(A):\n",
    "    p = 1\n",
    "    r = len(A) -1\n",
    "    quicksort(A, p, r)"
   ]
  },
  {
   "cell_type": "markdown",
   "metadata": {},
   "source": [
    "#### Why Quick Sort is preferred over MergeSort for sorting Arrays\n",
    "\n",
    "Quick Sort in its general form is an in-place sort (i.e. it doesn’t require any extra storage) whereas merge sort requires O(N) extra storage, N denoting the array size which may be quite expensive. Allocating and de-allocating the extra space used for merge sort increases the running time of the algorithm. Comparing average complexity we find that both type of sorts have O(NlogN) average complexity but the constants differ. For arrays, merge sort loses due to the use of extra O(N) storage space.\n",
    "https://www.geeksforgeeks.org/quick-sort/ "
   ]
  },
  {
   "cell_type": "code",
   "execution_count": 58,
   "metadata": {},
   "outputs": [],
   "source": [
    "def create_data(n):\n",
    "    \n",
    "    if n > 4:\n",
    "        array_lengths = [n**i for i in range(1,n)]\n",
    "    else:\n",
    "        m = np.linspace(1,n,10)\n",
    "        array_lengths = [10**i for i in m]\n",
    "    extra_values_for_nicer_plot = [(array_lengths[-1])/3, (array_lengths[-1])/2, (array_lengths[-1])/1.5]\n",
    "    for extra in extra_values_for_nicer_plot:\n",
    "        for i in array_lengths:\n",
    "            if i>extra:\n",
    "                array_lengths.insert(array_lengths.index(i), extra)\n",
    "                break\n",
    "    \n",
    "    rising_arrays = []\n",
    "    decaying_arrays = []\n",
    "    equal_ints = []\n",
    "    random_arrays = []\n",
    "    for length in array_lengths:\n",
    "        rising_arrays.append(np.array(range(math.floor(length))))\n",
    "        decaying_arrays.append(np.flip(range(math.floor(length))))\n",
    "        equal_ints.append([1 for _ in range(math.floor(length))])\n",
    "        random_arrays.append(np.random.randint(1,math.floor(length),math.floor(length)))\n",
    "    return rising_arrays, decaying_arrays, equal_ints, random_arrays, array_lengths\n"
   ]
  },
  {
   "cell_type": "code",
   "execution_count": 51,
   "metadata": {},
   "outputs": [],
   "source": [
    "def benchmarking(sort_function, test_data):\n",
    "    \"\"\"\n",
    "    A function which sorts the test_data based on a specific sort_function and stores the min time used on a number of repetitions.\n",
    "    \n",
    "    parameters:\n",
    "    sort_function = the sorting function used\n",
    "    test_data = the array to be sorted\n",
    "    p, q and r = integers which represents indexes in the array to be sorted in the divide-and-conquer approach, None by default.\n",
    "    \n",
    "    \"\"\"\n",
    "    clock = timeit.Timer(stmt = 'sort_func(copy(data))', globals={'sort_func': sort_function, 'data':test_data, 'copy':copy.copy})\n",
    "\n",
    "    n_ar, t_ar = clock.autorange()\n",
    "    t = clock.repeat(repeat=7, number=n_ar)\n",
    "    time = min(t)\n",
    "    print(time)\n",
    "    return time"
   ]
  },
  {
   "cell_type": "code",
   "execution_count": 56,
   "metadata": {},
   "outputs": [],
   "source": [
    "def simulate(sort_function, n, array_type, path):\n",
    "    \"\"\"\n",
    "    sort_function: sorting function used for sorting\n",
    "    array_type: 'rising_order', 'decaying_order', 'equal_integers', random_numbers'.\n",
    "    n: highest power of ten, deciding the size od the biggest array to be sorted\n",
    "    path: the path where dataframes created should be stored\n",
    "    \"\"\"\n",
    "    rising_arrays, decaying_arrays, equal_ints, random_arrays, array_lengths = create_data(n)\n",
    "    data = []\n",
    "    i = 0\n",
    "    if array_type == 'rising_order':\n",
    "        for array in rising_arrays:\n",
    "            data.append(benchmarking(sort_function, array))\n",
    "            i = i+1\n",
    "    elif array_type == 'decaying_order':\n",
    "        for array in decaying_arrays:\n",
    "            data.append(benchmarking(sort_function, array))\n",
    "            i = i+1\n",
    "    elif array_type == 'equal_integers':\n",
    "        for array in equal_ints:\n",
    "                data.append(benchmarking(sort_function, array))\n",
    "                i = i+1\n",
    "    elif array_type == 'random_numbers':\n",
    "        for array in random_arrays:\n",
    "                data.append(benchmarking(sort_function, array))\n",
    "                i = i+1\n",
    "    else:\n",
    "        raise ValueError('set array type as rising_order, decaying_order, equal_integers or random_numbers')\n",
    "    \n",
    "    times = pd.DataFrame(columns = array_lengths, index = ['time used'])\n",
    "    print(array_lengths)\n",
    "    times.loc['time used'] = data\n",
    "    print(times)\n",
    "    path = '{0}{1}{2}{3}'.format(path, sort_function.__name__, n, array_type)\n",
    "    times.to_pickle(path)"
   ]
  },
  {
   "cell_type": "code",
   "execution_count": 46,
   "metadata": {},
   "outputs": [],
   "source": [
    "def plotting(file_path, n, array_type, sorting_function1 = None, sorting_function2 = None, sorting_function3 = None, sorting_function4 = None,  sorting_function5 = None):\n",
    "    '''\n",
    "    file_path: direction of where the file is stored as string\n",
    "    sorting_function: sorting function preferred to plot\n",
    "    n: the highest power of ten, deciding the size of the biggest array to be sorted\n",
    "    array_type: 'rising_order', 'decaying_order', 'equal_integers', random_numbers'.\n",
    "    '''\n",
    "    \n",
    "    files = []\n",
    "    function_names = []\n",
    "    for function in range(1,6):\n",
    "        function_name = eval('sorting_function{0}'.format(function))\n",
    "        function_names.append(function_name)\n",
    "        if function_name != None:\n",
    "            files.append(pd.read_pickle('{0}{1}{2}{3}'.format(file_path, function_name.__name__, n, array_type)))\n",
    "    plt.figure()\n",
    "    plt.title(array_type)\n",
    "    plt.xlabel('the size of array')\n",
    "    plt.ylabel('time used for sorting in ms')\n",
    "    i = 0\n",
    "    for file in files:\n",
    "        x = file.columns\n",
    "        y = file.iloc[0,:]\n",
    "        line = plt.plot(x,y, label= '{0}'.format(function_names[i].__name__))\n",
    "        i += 1\n",
    "    plt.legend()\n",
    "    plt.savefig('{0}{1}.pdf'.format(file_path, array_type))\n",
    "    plt.show()"
   ]
  },
  {
   "cell_type": "code",
   "execution_count": null,
   "metadata": {},
   "outputs": [],
   "source": [
    "def plotting_diff_arrays(file_path, n, sorting_function = None):\n",
    "    array_types = ['rising_order', 'decaying_order', 'random_numbers', 'equal_integers']\n",
    "    files = []\n",
    "    for array_type in array_types:\n",
    "        if sorting_function != None:\n",
    "            files.append(pd.read_pickle('{0}{1}{2}{3}'.format(file_path, sorting_function.__name__, n, array_type)))\n",
    "    plt.figure()\n",
    "    plt.title(sorting_function)\n",
    "    plt.xlabel('the size of array')\n",
    "    plt.ylabel('time used for sorting in ms')\n",
    "    i = 0     \n",
    "    for file in files:\n",
    "        #x = [math.log10(m) for m in file.columns]\n",
    "        x = file.columns\n",
    "        y = file.iloc[0,:]\n",
    "        line = plt.plot(x,y, label= '{0}'.format(array_types[i]))\n",
    "        i += 1\n",
    "    plt.legend()\n",
    "    plt.savefig('{0}{1}.pdf'.format(file_path, sorting_function.__name__))\n",
    "    plt.show()"
   ]
  },
  {
   "cell_type": "code",
   "execution_count": 82,
   "metadata": {},
   "outputs": [
    {
     "name": "stdout",
     "output_type": "stream",
     "text": [
      "0.2531670999596827\n",
      "0.30984099995112047\n",
      "0.26497129997005686\n",
      "0.2291628000093624\n",
      "0.1813634000136517\n",
      "0.3701395000098273\n",
      "0.19894520001253113\n",
      "0.27868930000113323\n",
      "0.40167539997491986\n",
      "0.5600346999708563\n",
      "          8.000000e+00 6.400000e+01 5.120000e+02 4.096000e+03 3.276800e+04  \\\n",
      "time used          NaN          NaN          NaN          NaN          NaN   \n",
      "\n",
      "          2.621440e+05 6.990507e+05 1.048576e+06 1.398101e+06 2.097152e+06  \n",
      "time used          NaN          NaN          NaN          NaN          NaN  \n",
      "[8, 64, 512, 4096, 32768, 262144, 699050.6666666666, 1048576.0, 1398101.3333333333, 2097152]\n"
     ]
    }
   ],
   "source": [
    "simulate(insertion_sort, 8, 'equal_integers', 'C:/Users/kajsi/Documents/NMBU/Inf221/Semesteroppgave/')"
   ]
  },
  {
   "cell_type": "code",
   "execution_count": 96,
   "metadata": {},
   "outputs": [
    {
     "name": "stdout",
     "output_type": "stream",
     "text": [
      "0.30350699997507036\n",
      "0.1864505999838002\n",
      "0.20110579999163747\n",
      "0.20681399997556582\n",
      "0.40557199995964766\n",
      "3.830302400048822\n",
      "10.679618499998469\n",
      "16.61263460002374\n",
      "22.960419499955606\n",
      "35.69962560001295\n",
      "          8.000000e+00 6.400000e+01 5.120000e+02 4.096000e+03 3.276800e+04  \\\n",
      "time used          NaN          NaN          NaN          NaN          NaN   \n",
      "\n",
      "          2.621440e+05 6.990507e+05 1.048576e+06 1.398101e+06 2.097152e+06  \n",
      "time used          NaN          NaN          NaN          NaN          NaN  \n",
      "[8, 64, 512, 4096, 32768, 262144, 699050.6666666666, 1048576.0, 1398101.3333333333, 2097152]\n"
     ]
    }
   ],
   "source": [
    "simulate(mergesort, 8, 'random_numbers', 'C:/Users/kajsi/Documents/NMBU/Inf221/Semesteroppgave/')"
   ]
  },
  {
   "cell_type": "code",
   "execution_count": 95,
   "metadata": {},
   "outputs": [
    {
     "name": "stdout",
     "output_type": "stream",
     "text": [
      "0.261236899998039\n",
      "0.24061420001089573\n",
      "0.2934641999891028\n",
      "0.32222290005302057\n",
      "0.667317199986428\n",
      "6.953704499988817\n",
      "20.94842129998142\n",
      "30.691256800026167\n",
      "45.88509820000036\n",
      "65.33319889998529\n",
      "          8.000000e+00 6.400000e+01 5.120000e+02 4.096000e+03 3.276800e+04  \\\n",
      "time used          NaN          NaN          NaN          NaN          NaN   \n",
      "\n",
      "          2.621440e+05 6.990507e+05 1.048576e+06 1.398101e+06 2.097152e+06  \n",
      "time used          NaN          NaN          NaN          NaN          NaN  \n",
      "[8, 64, 512, 4096, 32768, 262144, 699050.6666666666, 1048576.0, 1398101.3333333333, 2097152]\n"
     ]
    }
   ],
   "source": [
    "simulate(heapSort, 8, 'random_numbers', 'C:/Users/kajsi/Documents/NMBU/Inf221/Semesteroppgave/')"
   ]
  },
  {
   "cell_type": "code",
   "execution_count": 94,
   "metadata": {},
   "outputs": [
    {
     "name": "stdout",
     "output_type": "stream",
     "text": [
      "0.17843740002717823\n",
      "0.14419650001218542\n",
      "0.18779280001763254\n",
      "0.19900140003301203\n",
      "0.4270385999698192\n",
      "4.430174300039653\n",
      "14.676342299964745\n",
      "22.8636916000396\n",
      "33.95143389998702\n",
      "53.815583600022364\n",
      "          8.000000e+00 6.400000e+01 5.120000e+02 4.096000e+03 3.276800e+04  \\\n",
      "time used          NaN          NaN          NaN          NaN          NaN   \n",
      "\n",
      "          2.621440e+05 6.990507e+05 1.048576e+06 1.398101e+06 2.097152e+06  \n",
      "time used          NaN          NaN          NaN          NaN          NaN  \n",
      "[8, 64, 512, 4096, 32768, 262144, 699050.6666666666, 1048576.0, 1398101.3333333333, 2097152]\n"
     ]
    }
   ],
   "source": [
    "simulate(sort_quick, 8, 'random_numbers', 'C:/Users/kajsi/Documents/NMBU/Inf221/Semesteroppgave/')"
   ]
  },
  {
   "cell_type": "code",
   "execution_count": 93,
   "metadata": {},
   "outputs": [
    {
     "name": "stdout",
     "output_type": "stream",
     "text": [
      "0.3583498000516556\n",
      "0.31078150001121685\n",
      "0.2830907999887131\n",
      "0.2758973999880254\n",
      "0.2734546999563463\n",
      "0.21484349999809638\n",
      "0.5611013000016101\n",
      "0.9184416999923997\n",
      "1.24878439999884\n",
      "2.021080299979076\n",
      "          8.000000e+00 6.400000e+01 5.120000e+02 4.096000e+03 3.276800e+04  \\\n",
      "time used          NaN          NaN          NaN          NaN          NaN   \n",
      "\n",
      "          2.621440e+05 6.990507e+05 1.048576e+06 1.398101e+06 2.097152e+06  \n",
      "time used          NaN          NaN          NaN          NaN          NaN  \n",
      "[8, 64, 512, 4096, 32768, 262144, 699050.6666666666, 1048576.0, 1398101.3333333333, 2097152]\n"
     ]
    }
   ],
   "source": [
    "simulate(sorted, 8, 'random_numbers', 'C:/Users/kajsi/Documents/NMBU/Inf221/Semesteroppgave/')"
   ]
  },
  {
   "cell_type": "code",
   "execution_count": 127,
   "metadata": {},
   "outputs": [
    {
     "name": "stdout",
     "output_type": "stream",
     "text": [
      "21.1 µs ± 459 ns per loop (mean ± std. dev. of 7 runs, 10000 loops each)\n"
     ]
    }
   ],
   "source": [
    "%timeit sort_quick(A)"
   ]
  },
  {
   "cell_type": "code",
   "execution_count": 128,
   "metadata": {},
   "outputs": [
    {
     "name": "stdout",
     "output_type": "stream",
     "text": [
      "3.75 µs ± 388 ns per loop (mean ± std. dev. of 7 runs, 100000 loops each)\n"
     ]
    }
   ],
   "source": [
    "%timeit insertion_sort(A)"
   ]
  },
  {
   "cell_type": "code",
   "execution_count": null,
   "metadata": {},
   "outputs": [],
   "source": [
    "%timeit insertion_sort(A)"
   ]
  },
  {
   "cell_type": "code",
   "execution_count": null,
   "metadata": {},
   "outputs": [],
   "source": []
  },
  {
   "cell_type": "code",
   "execution_count": null,
   "metadata": {
    "scrolled": true
   },
   "outputs": [],
   "source": [
    "plotting('C:/Users/kajsi/Documents/NMBU/Inf221/Semesteroppgave/', 8, 'equal_integers', sorting_function1 = heapSort, sorting_function2 = mergesort, sorting_function3 = sorted, sorting_function4 = None, sorting_function5 = None)\n"
   ]
  },
  {
   "cell_type": "code",
   "execution_count": null,
   "metadata": {},
   "outputs": [],
   "source": []
  }
 ],
 "metadata": {
  "kernelspec": {
   "display_name": "Python 3",
   "language": "python",
   "name": "python3"
  },
  "language_info": {
   "codemirror_mode": {
    "name": "ipython",
    "version": 3
   },
   "file_extension": ".py",
   "mimetype": "text/x-python",
   "name": "python",
   "nbconvert_exporter": "python",
   "pygments_lexer": "ipython3",
   "version": "3.7.4"
  }
 },
 "nbformat": 4,
 "nbformat_minor": 2
}
